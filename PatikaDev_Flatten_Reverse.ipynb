{
 "cells": [
  {
   "cell_type": "markdown",
   "id": "a4ed37ac",
   "metadata": {},
   "source": [
    "# Bir listeyi düzleştiren (flatten) - PatikaDev"
   ]
  },
  {
   "cell_type": "code",
   "execution_count": 73,
   "id": "2afa3ffc",
   "metadata": {},
   "outputs": [],
   "source": [
    "mylist = [1,2,4,5,[6,[1,1],7,8], [4,5]]\n",
    "\n",
    "flat_list = []\n",
    "\n",
    "def type_list(listem):\n",
    "    for item in listem:\n",
    "        if type(item) == int:\n",
    "            flat_list.append(item)\n",
    "        \n",
    "        if type(item) == list:\n",
    "            type_list(item)\n",
    "            \n",
    "    return flat_list        \n",
    "    \n",
    "sonuc = type_list(mylist)    "
   ]
  },
  {
   "cell_type": "code",
   "execution_count": 74,
   "id": "319ece8a",
   "metadata": {},
   "outputs": [
    {
     "data": {
      "text/plain": [
       "[1, 2, 4, 5, 6, 1, 1, 7, 8, 4, 5]"
      ]
     },
     "execution_count": 74,
     "metadata": {},
     "output_type": "execute_result"
    }
   ],
   "source": [
    "sonuc"
   ]
  },
  {
   "cell_type": "markdown",
   "id": "793c97c1",
   "metadata": {},
   "source": [
    "# Listeyi Tersine Çevir"
   ]
  },
  {
   "cell_type": "code",
   "execution_count": 36,
   "id": "0ca44fff",
   "metadata": {},
   "outputs": [],
   "source": [
    "mylist = [1,2,4,5,[6,2,7,8], [4,5],99]"
   ]
  },
  {
   "cell_type": "code",
   "execution_count": 37,
   "id": "f3dd61e6",
   "metadata": {},
   "outputs": [
    {
     "data": {
      "text/plain": [
       "[1, 2, 4, 5, [6, 2, 7, 8], [4, 5], 99]"
      ]
     },
     "execution_count": 37,
     "metadata": {},
     "output_type": "execute_result"
    }
   ],
   "source": [
    "mylist"
   ]
  },
  {
   "cell_type": "code",
   "execution_count": 38,
   "id": "8e114a35",
   "metadata": {},
   "outputs": [],
   "source": [
    "reverse_list = []\n",
    "\n",
    "\n",
    "def type_list(listem):\n",
    "    a  = listem[::-1]\n",
    "    return a\n",
    "\n",
    "ters_mylist = mylist[::-1]   \n",
    "\n",
    "for item in ters_mylist:\n",
    "    if type(item) == int:\n",
    "        reverse_list.append(item)\n",
    "        \n",
    "    if type(item) == list:\n",
    "        b = type_list(item)\n",
    "        reverse_list.append(b)          "
   ]
  },
  {
   "cell_type": "code",
   "execution_count": 39,
   "id": "9b682371",
   "metadata": {},
   "outputs": [
    {
     "data": {
      "text/plain": [
       "[99, [5, 4], [8, 7, 2, 6], 5, 4, 2, 1]"
      ]
     },
     "execution_count": 39,
     "metadata": {},
     "output_type": "execute_result"
    }
   ],
   "source": [
    "reverse_list"
   ]
  },
  {
   "cell_type": "code",
   "execution_count": null,
   "id": "f1c9ca23",
   "metadata": {},
   "outputs": [],
   "source": []
  }
 ],
 "metadata": {
  "kernelspec": {
   "display_name": "Python 3 (ipykernel)",
   "language": "python",
   "name": "python3"
  },
  "language_info": {
   "codemirror_mode": {
    "name": "ipython",
    "version": 3
   },
   "file_extension": ".py",
   "mimetype": "text/x-python",
   "name": "python",
   "nbconvert_exporter": "python",
   "pygments_lexer": "ipython3",
   "version": "3.8.12"
  }
 },
 "nbformat": 4,
 "nbformat_minor": 5
}
